{
 "cells": [
  {
   "cell_type": "code",
   "execution_count": null,
   "id": "a578d4ac-8f7b-47df-ab07-9b2f97cd91bd",
   "metadata": {},
   "outputs": [],
   "source": [
    "import torch\n",
    "import random\n",
    "\n",
    "import numpy as np\n",
    "import pandas as pd\n",
    "import pickle as pkl\n",
    "\n",
    "import gymnasium as gym\n",
    "\n",
    "from IPython.display import Image\n",
    "from CartpoleRL import CartPoleAgent, get_trajectory, update_policy, speed_gameplay"
   ]
  },
  {
   "cell_type": "code",
   "execution_count": null,
   "id": "61a98986-ff2b-40bf-a49e-6114e4b801f4",
   "metadata": {},
   "outputs": [],
   "source": [
    "torch.manual_seed(43)\n",
    "random.seed(43)\n",
    "np.random.seed(43)"
   ]
  },
  {
   "cell_type": "code",
   "execution_count": null,
   "id": "ef3daf71-9afe-4e0b-aa0b-fdd8b9f77048",
   "metadata": {},
   "outputs": [],
   "source": [
    "impact = 0.6"
   ]
  },
  {
   "cell_type": "code",
   "execution_count": null,
   "id": "23b5d8a0-32a6-47d6-82d4-4668f0a418c4",
   "metadata": {},
   "outputs": [],
   "source": [
    "with open(\"baseline_RL_model.pkl\",\"rb\") as file:\n",
    "    cart_pole_agent, df = pkl.loads(file.read())\n",
    "\n",
    "env = gym.make(\"CartPole-v1\", render_mode=\"rgb_array\")\n",
    "_ = env.reset(seed=42)"
   ]
  },
  {
   "cell_type": "code",
   "execution_count": null,
   "id": "c73289c1-bcda-4b5e-8e60-5d8390b1b53a",
   "metadata": {},
   "outputs": [],
   "source": [
    "num_sessions = 800"
   ]
  },
  {
   "cell_type": "code",
   "execution_count": null,
   "id": "6117650e-7352-419f-9f1b-c2a0bacc3a44",
   "metadata": {},
   "outputs": [],
   "source": [
    "total_rewards = []\n",
    "\n",
    "cart_pole_agent = CartPoleAgent(4,2,24)\n",
    "env = gym.make(\"CartPole-v1\", render_mode=\"rgb_array\")\n",
    "env.reset(seed=42)\n",
    "\n",
    "for game_session in range(num_sessions):\n",
    "    actions, rewards, observations, log_probabilities = get_trajectory(\n",
    "        env,\n",
    "        cart_pole_agent,\n",
    "        make_gif=False,\n",
    "    )\n",
    "    update_policy(cart_pole_agent, log_probabilities, rewards, gamma=0.99)\n",
    "    total_rewards.append(rewards.sum())\n",
    "\n",
    "\n"
   ]
  },
  {
   "cell_type": "code",
   "execution_count": null,
   "id": "26d2a464-ad06-4186-aa0c-444b24dc971a",
   "metadata": {},
   "outputs": [],
   "source": [
    "ratings = []"
   ]
  },
  {
   "cell_type": "markdown",
   "id": "e79dd66a-6941-4b7a-87b8-fede5360559d",
   "metadata": {},
   "source": [
    "# Start Human Feedback"
   ]
  },
  {
   "cell_type": "code",
   "execution_count": null,
   "id": "e9d464ab-ad82-47d6-b66f-246f5ad3276f",
   "metadata": {},
   "outputs": [],
   "source": [
    "print(len(ratings))\n",
    "actions, rewards, observations, log_probabilities = get_trajectory(\n",
    "        env,\n",
    "        cart_pole_agent,\n",
    "        make_gif=True,\n",
    "        gif_path=\"rate.gif\",\n",
    "        fps=60\n",
    "    )\n",
    "\n",
    "speed_gameplay(\"rate.gif\",100)\n",
    "Image(\"rate.gif\",width=600,height=40)\n"
   ]
  },
  {
   "cell_type": "code",
   "execution_count": null,
   "id": "5424890d-6a15-4aaf-b895-bfe32afeeadc",
   "metadata": {},
   "outputs": [],
   "source": [
    "scaling = (float(input(\"Rating:\")))/10"
   ]
  },
  {
   "cell_type": "code",
   "execution_count": null,
   "id": "9e2c0363-6f37-4da3-baec-ecdd52d2e96c",
   "metadata": {},
   "outputs": [],
   "source": [
    "rewards = rewards - impact * scaling\n",
    "update_policy(cart_pole_agent, log_probabilities, rewards, gamma=0.99)\n",
    "total_rewards.append(rewards.sum())\n",
    "ratings.append(scaling)\n",
    "pd.DataFrame(ratings,columns=[\"feedback_ratings\"]).to_csv(\"feedback_ratings.csv\")"
   ]
  },
  {
   "cell_type": "markdown",
   "id": "6073ac7e-f88d-43e2-b6b1-cb21294432bc",
   "metadata": {},
   "source": [
    "# Finish"
   ]
  },
  {
   "cell_type": "code",
   "execution_count": null,
   "id": "1cb87d4f-c94e-4069-afe6-a644152a87fd",
   "metadata": {},
   "outputs": [],
   "source": [
    "df = pd.DataFrame(total_rewards, columns=[\"rewards\"]).reset_index()\n",
    "with open(\"HumanFeedback_RL_model.pkl\",\"wb\") as file:\n",
    "    pkl.dump([cart_pole_agent, df],file)"
   ]
  },
  {
   "cell_type": "code",
   "execution_count": null,
   "id": "e5d3644e-cd07-4d68-bdf8-7de679b992f2",
   "metadata": {},
   "outputs": [],
   "source": []
  }
 ],
 "metadata": {
  "kernelspec": {
   "display_name": "Python 3 (ipykernel)",
   "language": "python",
   "name": "python3"
  },
  "language_info": {
   "codemirror_mode": {
    "name": "ipython",
    "version": 3
   },
   "file_extension": ".py",
   "mimetype": "text/x-python",
   "name": "python",
   "nbconvert_exporter": "python",
   "pygments_lexer": "ipython3",
   "version": "3.9.18"
  }
 },
 "nbformat": 4,
 "nbformat_minor": 5
}
