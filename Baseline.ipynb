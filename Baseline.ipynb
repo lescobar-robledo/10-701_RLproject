{
 "cells": [
  {
   "cell_type": "code",
   "execution_count": null,
   "id": "25b50b42-940d-4536-b8d6-c540a5320003",
   "metadata": {},
   "outputs": [],
   "source": [
    "import torch\n",
    "import random\n",
    "\n",
    "\n",
    "import numpy as np\n",
    "import pandas as pd\n",
    "import pickle as pkl\n",
    "import gymnasium as gym\n",
    "import matplotlib.pyplot as plt\n",
    "\n",
    "from IPython.display import Image\n",
    "from CartpoleRL import CartPoleAgent, get_trajectory, update_policy, speed_gameplay"
   ]
  },
  {
   "cell_type": "code",
   "execution_count": null,
   "id": "3b6a261f-e5ae-4a1f-9a34-3bacc2e25242",
   "metadata": {},
   "outputs": [],
   "source": [
    "torch.manual_seed(42)\n",
    "random.seed(42)\n",
    "np.random.seed(42)"
   ]
  },
  {
   "cell_type": "code",
   "execution_count": null,
   "id": "78526205-17e1-4258-9a26-10496000bda6",
   "metadata": {},
   "outputs": [],
   "source": [
    "num_sessions = 1000 "
   ]
  },
  {
   "cell_type": "code",
   "execution_count": null,
   "id": "86fdc64f-8a5b-402a-928d-8e8ff490f833",
   "metadata": {},
   "outputs": [],
   "source": [
    "total_rewards = []\n",
    "\n",
    "cart_pole_agent = CartPoleAgent(4,2,24)\n",
    "env = gym.make(\"CartPole-v1\", render_mode=\"rgb_array\")\n",
    "env.reset(seed=42)\n",
    "\n",
    "for game_session in range(num_sessions):\n",
    "    actions, rewards, observations, log_probabilities = get_trajectory(\n",
    "        env,\n",
    "        cart_pole_agent,\n",
    "        make_gif=False,\n",
    "    )\n",
    "    update_policy(cart_pole_agent, log_probabilities, rewards, gamma=0.99)\n",
    "    total_rewards.append(rewards.sum())\n",
    "\n",
    "\n"
   ]
  },
  {
   "cell_type": "code",
   "execution_count": null,
   "id": "fa2e8554-49b4-4f35-82e6-4ef6453ef9ac",
   "metadata": {},
   "outputs": [],
   "source": [
    "df = pd.DataFrame(total_rewards, columns=[\"rewards\"]).reset_index()"
   ]
  },
  {
   "cell_type": "code",
   "execution_count": null,
   "id": "132e5e1d-b3e4-4b81-8626-2532dc4c2fe8",
   "metadata": {},
   "outputs": [],
   "source": [
    "with open(\"baseline_RL_model.pkl\",\"wb\") as file:\n",
    "    pkl.dump([cart_pole_agent, df],file)"
   ]
  },
  {
   "cell_type": "code",
   "execution_count": null,
   "id": "45589b7e-9944-4e99-8a1f-a11d6f30b9a7",
   "metadata": {},
   "outputs": [],
   "source": []
  }
 ],
 "metadata": {
  "kernelspec": {
   "display_name": "Python 3 (ipykernel)",
   "language": "python",
   "name": "python3"
  },
  "language_info": {
   "codemirror_mode": {
    "name": "ipython",
    "version": 3
   },
   "file_extension": ".py",
   "mimetype": "text/x-python",
   "name": "python",
   "nbconvert_exporter": "python",
   "pygments_lexer": "ipython3",
   "version": "3.9.18"
  }
 },
 "nbformat": 4,
 "nbformat_minor": 5
}
