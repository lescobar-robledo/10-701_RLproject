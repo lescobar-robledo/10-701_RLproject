{
 "cells": [
  {
   "cell_type": "code",
   "execution_count": null,
   "id": "d7818f2c-0075-40b4-b785-3376cd50b40f",
   "metadata": {},
   "outputs": [],
   "source": [
    "import numpy as np\n",
    "import pandas as pd\n",
    "import pickle as pkl\n",
    "\n",
    "import gymnasium as gym\n",
    "\n",
    "from IPython.display import Image\n",
    "from CartpoleRL import get_trajectory, speed_gameplay"
   ]
  },
  {
   "cell_type": "code",
   "execution_count": null,
   "id": "01943b66-84e3-45b9-aa09-f6b4f92111f2",
   "metadata": {},
   "outputs": [],
   "source": [
    "with open(\"baseline_RL_model.pkl\",\"rb\") as file:\n",
    "    cart_pole_agent, df = pkl.loads(file.read())\n",
    "\n",
    "env = gym.make(\"CartPole-v1\", render_mode=\"rgb_array\")\n",
    "_ = env.reset(seed=42)"
   ]
  },
  {
   "cell_type": "code",
   "execution_count": null,
   "id": "76e2d353-487d-4abc-a670-1b85bff9671b",
   "metadata": {},
   "outputs": [],
   "source": [
    "ratings = []"
   ]
  },
  {
   "cell_type": "code",
   "execution_count": null,
   "id": "69745fa4-fc82-4618-8b4c-d4fb9be62cbd",
   "metadata": {},
   "outputs": [],
   "source": [
    "actions, rewards, observations, log_probabilities = get_trajectory(\n",
    "        env,\n",
    "        cart_pole_agent,\n",
    "        make_gif=True,\n",
    "        gif_path=\"rate.gif\",\n",
    "        fps=60\n",
    "    )\n",
    "speed_gameplay(\"rate.gif\",100)\n",
    "Image(\"rate.gif\",width=600,height=40)"
   ]
  },
  {
   "cell_type": "code",
   "execution_count": null,
   "id": "c1b1c861-45bf-4710-89b2-7b55708b8dcb",
   "metadata": {},
   "outputs": [],
   "source": [
    "ratings.append(float(input(\"Rating:\")))\n",
    "pd.DataFrame(ratings,columns=[\"baseline_ratings\"]).to_csv(\"baseline_ratings.csv\")"
   ]
  },
  {
   "cell_type": "code",
   "execution_count": null,
   "id": "f8b3ef21-cd2c-48da-87c6-cf1f597a4259",
   "metadata": {},
   "outputs": [],
   "source": []
  },
  {
   "cell_type": "code",
   "execution_count": null,
   "id": "26cb550a-817e-430b-8d37-245fbae167fe",
   "metadata": {},
   "outputs": [],
   "source": []
  }
 ],
 "metadata": {
  "kernelspec": {
   "display_name": "Python 3 (ipykernel)",
   "language": "python",
   "name": "python3"
  },
  "language_info": {
   "codemirror_mode": {
    "name": "ipython",
    "version": 3
   },
   "file_extension": ".py",
   "mimetype": "text/x-python",
   "name": "python",
   "nbconvert_exporter": "python",
   "pygments_lexer": "ipython3",
   "version": "3.9.18"
  }
 },
 "nbformat": 4,
 "nbformat_minor": 5
}
